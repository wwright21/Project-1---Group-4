{
 "cells": [
  {
   "cell_type": "code",
   "execution_count": 3,
   "id": "94fafe8e",
   "metadata": {},
   "outputs": [],
   "source": [
    "# import dependencies\n",
    "import pandas as pd"
   ]
  },
  {
   "cell_type": "code",
   "execution_count": 6,
   "id": "7c7cd2c8",
   "metadata": {},
   "outputs": [],
   "source": [
    "# Create 8 dataframes, one for each .csv file\n",
    "df1 = pd.read_csv('2018_01_01 to 2018_02_28.csv')\n",
    "df2 = pd.read_csv('2018_03_01 to 2018_09_30.csv')\n",
    "df3 = pd.read_csv('2018_10_01 to 2019_05_31.csv')\n",
    "df4 = pd.read_csv('2019_06_01 to 2019_12_31.csv')\n",
    "df5 = pd.read_csv('2020_01_01 to 2020_07_31.csv')\n",
    "df6 = pd.read_csv('2020_08_01 to 2021_02_28.csv')\n",
    "df7 = pd.read_csv('2021_03_01 to 2021_08_31.csv')\n",
    "df8 = pd.read_csv('2021_09_01 to 2022_04_20.csv')"
   ]
  },
  {
   "cell_type": "code",
   "execution_count": 7,
   "id": "5359e7ac",
   "metadata": {},
   "outputs": [],
   "source": [
    "# Create a list of our 8 dataframes\n",
    "df_list = [df1, df2, df3, df4, df5, df6, df7, df8]"
   ]
  },
  {
   "cell_type": "code",
   "execution_count": 9,
   "id": "55581fcc",
   "metadata": {},
   "outputs": [],
   "source": [
    "master_data = pd.concat(df_list, ignore_index=True)\n",
    "# master_data.tail()\n",
    "master_data.to_csv('CountyMasterFile.csv')"
   ]
  },
  {
   "cell_type": "code",
   "execution_count": 14,
   "id": "7b5e969f",
   "metadata": {},
   "outputs": [],
   "source": [
    "# List of high schools\n",
    "h_schools = master_data['High Schl'].unique()"
   ]
  },
  {
   "cell_type": "code",
   "execution_count": 15,
   "id": "818a3c91",
   "metadata": {},
   "outputs": [],
   "source": [
    "# List of middle schools\n",
    "m_schools = master_data['Middle Schl'].unique()"
   ]
  },
  {
   "cell_type": "code",
   "execution_count": 16,
   "id": "3c2a9f06",
   "metadata": {},
   "outputs": [],
   "source": [
    "# List of elementary schools\n",
    "e_schools = master_data['Elem Schl'].unique()"
   ]
  }
 ],
 "metadata": {
  "kernelspec": {
   "display_name": "Python 3 (ipykernel)",
   "language": "python",
   "name": "python3"
  },
  "language_info": {
   "codemirror_mode": {
    "name": "ipython",
    "version": 3
   },
   "file_extension": ".py",
   "mimetype": "text/x-python",
   "name": "python",
   "nbconvert_exporter": "python",
   "pygments_lexer": "ipython3",
   "version": "3.9.7"
  }
 },
 "nbformat": 4,
 "nbformat_minor": 5
}
